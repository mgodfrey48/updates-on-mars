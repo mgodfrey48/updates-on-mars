{
 "cells": [
  {
   "cell_type": "code",
   "execution_count": null,
   "id": "88ad3af0",
   "metadata": {},
   "outputs": [],
   "source": [
    "# Imports\n",
    "import pandas as pd\n",
    "from splinter import Browser\n",
    "from bs4 import BeautifulSoup\n",
    "from webdriver_manager.chrome import ChromeDriverManager"
   ]
  },
  {
   "cell_type": "code",
   "execution_count": null,
   "id": "015d3dbf",
   "metadata": {},
   "outputs": [],
   "source": [
    "# Set up the executable path needed to scrape the webpage\n",
    "executable_path = {'executable_path': ChromeDriverManager().install()}\n",
    "browser = Browser('chrome', **executable_path, headless=False)"
   ]
  },
  {
   "cell_type": "code",
   "execution_count": null,
   "id": "d5b4a6f6",
   "metadata": {},
   "outputs": [],
   "source": [
    "# Set up a dictionary to store the info to be returned\n",
    "mars = {}"
   ]
  },
  {
   "cell_type": "markdown",
   "id": "e2ae0514",
   "metadata": {},
   "source": [
    "## Find the first article title and summary paragraph"
   ]
  },
  {
   "cell_type": "code",
   "execution_count": null,
   "id": "767d26db",
   "metadata": {},
   "outputs": [],
   "source": [
    "# Open the website to find news about mars\n",
    "news_url = \"https://redplanetscience.com/\"\n",
    "browser.visit(news_url)\n",
    "\n",
    "# HTML object\n",
    "html = browser.html\n",
    "\n",
    "# Parse HTML with Beautiful Soup\n",
    "soup = BeautifulSoup(html, 'html.parser')\n",
    "\n",
    "# Retrieve the first element with the news title, and the first element with the paragraph text\n",
    "news_title = soup.find('div', class_='content_title').text\n",
    "news_p = soup.find('div', class_='article_teaser_body').text\n",
    "\n",
    "# Add the title and paragraph to the mars dictionary\n",
    "mars['news_title'] = news_title\n",
    "mars['news_paragraph'] = news_p"
   ]
  },
  {
   "cell_type": "markdown",
   "id": "c0793c40",
   "metadata": {},
   "source": [
    "## Find the featured image"
   ]
  },
  {
   "cell_type": "code",
   "execution_count": null,
   "id": "951c9c56",
   "metadata": {},
   "outputs": [],
   "source": [
    "# Open the website to scrape and find the featured space image\n",
    "images_url = 'https://spaceimages-mars.com/'\n",
    "browser.visit(images_url)"
   ]
  },
  {
   "cell_type": "code",
   "execution_count": null,
   "id": "d2adcfc9",
   "metadata": {},
   "outputs": [],
   "source": [
    "# HTML object\n",
    "html2 = browser.html\n",
    "\n",
    "# Parse HTML with Beautiful Soup\n",
    "soup2 = BeautifulSoup(html2, 'html.parser')\n",
    "\n",
    "# Retrieve the image url\n",
    "image = soup2.find('img', class_='headerimage fade-in')\n",
    "link_to_image = image['src']\n",
    "featured_image_url = images_url + link_to_image\n",
    "\n",
    "# Add the image url to the mars_data dictionary\n",
    "mars['featured_image_url'] = featured_image_url"
   ]
  },
  {
   "cell_type": "markdown",
   "id": "c162b77f",
   "metadata": {},
   "source": [
    "## Find some fun facts about Mars!"
   ]
  },
  {
   "cell_type": "code",
   "execution_count": null,
   "id": "b54e87c4",
   "metadata": {},
   "outputs": [],
   "source": [
    "# Open the Mars facts website\n",
    "facts_url = 'https://galaxyfacts-mars.com/'\n",
    "browser.visit(facts_url)"
   ]
  },
  {
   "cell_type": "code",
   "execution_count": null,
   "id": "cb04da5b",
   "metadata": {},
   "outputs": [],
   "source": [
    "# Scrape the website to grab the table with Mars and Earth information\n",
    "tables = pd.read_html(facts_url)\n",
    "facts = tables[0]"
   ]
  },
  {
   "cell_type": "code",
   "execution_count": null,
   "id": "e359d077",
   "metadata": {},
   "outputs": [],
   "source": [
    "# Set the first row in the table to be the column names\n",
    "facts.columns = facts.iloc[0]"
   ]
  },
  {
   "cell_type": "code",
   "execution_count": null,
   "id": "de9f39de",
   "metadata": {},
   "outputs": [],
   "source": [
    "# Drop the row of data used to name the table columns\n",
    "facts = facts.drop(facts.index[0])"
   ]
  },
  {
   "cell_type": "code",
   "execution_count": null,
   "id": "41b38746",
   "metadata": {},
   "outputs": [],
   "source": [
    "# Reset the index of the table\n",
    "facts = facts.set_index('Mars - Earth Comparison')"
   ]
  },
  {
   "cell_type": "code",
   "execution_count": null,
   "id": "c0034138",
   "metadata": {},
   "outputs": [],
   "source": [
    "# Write the dataframe into an HTML script\n",
    "html_table = facts.to_html()"
   ]
  },
  {
   "cell_type": "code",
   "execution_count": null,
   "id": "55aac21a",
   "metadata": {},
   "outputs": [],
   "source": [
    "# Clean up the html code\n",
    "html_table = html_table.replace('\\n', '')"
   ]
  },
  {
   "cell_type": "code",
   "execution_count": null,
   "id": "328e1e1a",
   "metadata": {},
   "outputs": [],
   "source": [
    "# Add the html table to the mars_data dictionary\n",
    "mars['facts_table'] = html_table"
   ]
  },
  {
   "cell_type": "markdown",
   "id": "c04d4b43",
   "metadata": {},
   "source": [
    "## Scrape the hemisphere images"
   ]
  },
  {
   "cell_type": "code",
   "execution_count": null,
   "id": "50380495",
   "metadata": {},
   "outputs": [],
   "source": [
    "# Open the website that has the photos of Mars' hemispheres\n",
    "hemispheres_url = \"https://marshemispheres.com/\"\n",
    "browser.visit(hemispheres_url)\n",
    "\n",
    "# HTML object\n",
    "html = browser.html\n",
    "\n",
    "# Parse HTML with Beautiful Soup\n",
    "soup = BeautifulSoup(html, 'html.parser')"
   ]
  },
  {
   "cell_type": "code",
   "execution_count": null,
   "id": "db32cd3d",
   "metadata": {},
   "outputs": [],
   "source": [
    "# Find find links to each hemisphere page\n",
    "thumbnails = soup.find_all('div', class_='description')"
   ]
  },
  {
   "cell_type": "code",
   "execution_count": null,
   "id": "250e2ee3",
   "metadata": {},
   "outputs": [],
   "source": [
    "# Create a list to store dictionaries holding the hemisphere image info\n",
    "hemisphere_img_urls = []\n",
    "\n",
    "\n",
    "# Loop through each thumbnail element \n",
    "for thumb in thumbnails:\n",
    "    \n",
    "    # Store the title of the image\n",
    "    title = thumb.find('h3').text\n",
    "    \n",
    "    # Find the html link to the high res image page\n",
    "    link = thumb.find('a')['href']\n",
    "\n",
    "    # Open the page that has the high res image\n",
    "    image_page_url = hemispheres_url + link\n",
    "    browser.visit(image_page_url)\n",
    "\n",
    "    # Create a new HTML object\n",
    "    image_page_html = browser.html\n",
    "\n",
    "    # Parse HTML with Beautiful Soup\n",
    "    image_soup = BeautifulSoup(image_page_html, 'html.parser')\n",
    "    \n",
    "    # Find the image tag, pull out the src, append the image link to the original url\n",
    "    image_link = image_soup.find('img', class_='wide-image')['src']\n",
    "    img_url = hemispheres_url + image_link\n",
    "    \n",
    "    # Add the title and image url as a dictionary to the hemisphere image urls list\n",
    "    hemisphere_img_urls.append({'title': title, 'img_url': img_url})"
   ]
  },
  {
   "cell_type": "code",
   "execution_count": null,
   "id": "0b084a0f",
   "metadata": {},
   "outputs": [],
   "source": [
    "# Add the hemisphere image urls to the mars_data dictionary\n",
    "mars['hemisphere_img_urls'] = hemisphere_img_urls"
   ]
  },
  {
   "cell_type": "code",
   "execution_count": null,
   "id": "bd7e11b0",
   "metadata": {},
   "outputs": [],
   "source": [
    "# Quit the browser\n",
    "browser.quit()"
   ]
  }
 ],
 "metadata": {
  "kernelspec": {
   "display_name": "Python 3",
   "language": "python",
   "name": "python3"
  },
  "language_info": {
   "codemirror_mode": {
    "name": "ipython",
    "version": 3
   },
   "file_extension": ".py",
   "mimetype": "text/x-python",
   "name": "python",
   "nbconvert_exporter": "python",
   "pygments_lexer": "ipython3",
   "version": "3.8.8"
  }
 },
 "nbformat": 4,
 "nbformat_minor": 5
}
